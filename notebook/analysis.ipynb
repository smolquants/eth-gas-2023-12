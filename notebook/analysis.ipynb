{
 "cells": [
  {
   "cell_type": "code",
   "execution_count": 2,
   "id": "0dd003f8-73b3-461d-90ec-67a7596c6372",
   "metadata": {},
   "outputs": [],
   "source": [
    "import numpy as np\n",
    "import pandas as pd\n",
    "import matplotlib.pyplot as plt\n",
    "\n",
    "from scipy import stats\n",
    "from ape import chain, networks"
   ]
  },
  {
   "cell_type": "code",
   "execution_count": 3,
   "id": "b7eedd67-ddd8-4fbd-a4af-39ed19b440a0",
   "metadata": {},
   "outputs": [
    {
     "data": {
      "text/plain": [
       "<alchemy chain_id=1>"
      ]
     },
     "execution_count": 3,
     "metadata": {},
     "output_type": "execute_result"
    }
   ],
   "source": [
    "# SEE: https://gist.github.com/banteg/dcf6082ff7fc6ad51ce220146f29d9ff\n",
    "networks.parse_network_choice('ethereum:mainnet:alchemy').__enter__()"
   ]
  },
  {
   "cell_type": "code",
   "execution_count": 6,
   "id": "b51d5d43-8133-49c6-8c44-00abe71598c8",
   "metadata": {},
   "outputs": [],
   "source": [
    "FILENAME = \"./data/blocks_18613329_18829329_50.csv\"\n",
    "step = 50"
   ]
  },
  {
   "cell_type": "code",
   "execution_count": 8,
   "id": "2d0eb302-b50e-4664-b70a-6ce7c8073998",
   "metadata": {},
   "outputs": [
    {
     "data": {
      "text/html": [
       "<div>\n",
       "<style scoped>\n",
       "    .dataframe tbody tr th:only-of-type {\n",
       "        vertical-align: middle;\n",
       "    }\n",
       "\n",
       "    .dataframe tbody tr th {\n",
       "        vertical-align: top;\n",
       "    }\n",
       "\n",
       "    .dataframe thead th {\n",
       "        text-align: right;\n",
       "    }\n",
       "</style>\n",
       "<table border=\"1\" class=\"dataframe\">\n",
       "  <thead>\n",
       "    <tr style=\"text-align: right;\">\n",
       "      <th></th>\n",
       "      <th>base_fee</th>\n",
       "      <th>difficulty</th>\n",
       "      <th>gas_limit</th>\n",
       "      <th>gas_used</th>\n",
       "      <th>hash</th>\n",
       "      <th>num_transactions</th>\n",
       "      <th>number</th>\n",
       "      <th>parent_hash</th>\n",
       "      <th>size</th>\n",
       "      <th>timestamp</th>\n",
       "      <th>total_difficulty</th>\n",
       "    </tr>\n",
       "  </thead>\n",
       "  <tbody>\n",
       "    <tr>\n",
       "      <th>0</th>\n",
       "      <td>21906158812</td>\n",
       "      <td>0</td>\n",
       "      <td>30000000</td>\n",
       "      <td>29984800</td>\n",
       "      <td>b'\\x81\\xbdd@}\\xf2&amp;\\xaf\\xe9\\x00y\\x8b\\xa3\\xc6B\\x...</td>\n",
       "      <td>369</td>\n",
       "      <td>18613329</td>\n",
       "      <td>b'\\xe8\\xec*6s\\xea\\xd1\\xd9\\xc9\\x97\\xe0\\x88\\x8b@...</td>\n",
       "      <td>240977</td>\n",
       "      <td>1700487263</td>\n",
       "      <td>58750003716598352816469</td>\n",
       "    </tr>\n",
       "    <tr>\n",
       "      <th>1</th>\n",
       "      <td>27643132205</td>\n",
       "      <td>0</td>\n",
       "      <td>30000000</td>\n",
       "      <td>14775482</td>\n",
       "      <td>b'E;\\xfcQ\\xa6$\\\\\\x1eh7\\x8d\\x94\\x08\\xac\\xcfE\\xd...</td>\n",
       "      <td>124</td>\n",
       "      <td>18613379</td>\n",
       "      <td>b'\\xfd1W\\xc6~F\\r\\x1fQ\\x00\\x17R\\xa4s\\x83\\x10\\x0...</td>\n",
       "      <td>128002</td>\n",
       "      <td>1700487875</td>\n",
       "      <td>58750003716598352816469</td>\n",
       "    </tr>\n",
       "    <tr>\n",
       "      <th>2</th>\n",
       "      <td>27710169280</td>\n",
       "      <td>0</td>\n",
       "      <td>30000000</td>\n",
       "      <td>10790788</td>\n",
       "      <td>b'\\xd1\\xe4S\\xc3\\x1cJ\\xdf\\xe8j\\xb7&amp;\\xb6\\ru\\x86\\...</td>\n",
       "      <td>137</td>\n",
       "      <td>18613429</td>\n",
       "      <td>b'\\x9a\\xa6Z@\\x1a6i\\x9d\\xea\\x85)!\\x11\\xd7)A\\xe6...</td>\n",
       "      <td>80965</td>\n",
       "      <td>1700488487</td>\n",
       "      <td>58750003716598352816469</td>\n",
       "    </tr>\n",
       "    <tr>\n",
       "      <th>3</th>\n",
       "      <td>31041904230</td>\n",
       "      <td>0</td>\n",
       "      <td>30000000</td>\n",
       "      <td>14433477</td>\n",
       "      <td>b'XZ\\x99\\xe4\\x1fDpS\\xfc\\x08\\x0b\\xb0\\xfbQ\\x06]\\...</td>\n",
       "      <td>156</td>\n",
       "      <td>18613479</td>\n",
       "      <td>b'\\x05PA.ozY\\xc1w\\x088&gt;\\x00\\xf4\\x9e@\\x8e\\x8d\\x...</td>\n",
       "      <td>142038</td>\n",
       "      <td>1700489087</td>\n",
       "      <td>58750003716598352816469</td>\n",
       "    </tr>\n",
       "    <tr>\n",
       "      <th>4</th>\n",
       "      <td>34828180467</td>\n",
       "      <td>0</td>\n",
       "      <td>30000000</td>\n",
       "      <td>17358964</td>\n",
       "      <td>b'\\x7f\\xac\\x88\\x808 B\\xd6&lt;.Vn\\x8fJ\\xe2D\\xf3\\xc...</td>\n",
       "      <td>201</td>\n",
       "      <td>18613529</td>\n",
       "      <td>b'\\xfb~\\xdfq\\xd1\\xb2=\\xe0/\\xfa+\\xc2\\xdeL.\\xe2X...</td>\n",
       "      <td>149380</td>\n",
       "      <td>1700489711</td>\n",
       "      <td>58750003716598352816469</td>\n",
       "    </tr>\n",
       "    <tr>\n",
       "      <th>...</th>\n",
       "      <td>...</td>\n",
       "      <td>...</td>\n",
       "      <td>...</td>\n",
       "      <td>...</td>\n",
       "      <td>...</td>\n",
       "      <td>...</td>\n",
       "      <td>...</td>\n",
       "      <td>...</td>\n",
       "      <td>...</td>\n",
       "      <td>...</td>\n",
       "      <td>...</td>\n",
       "    </tr>\n",
       "    <tr>\n",
       "      <th>4315</th>\n",
       "      <td>57214396399</td>\n",
       "      <td>0</td>\n",
       "      <td>30000000</td>\n",
       "      <td>12535259</td>\n",
       "      <td>b'\\x88\\xc5V\\x9d{\\xae\\x0f\\xdf\\xa7\\xacB\\xb6\\xe51...</td>\n",
       "      <td>141</td>\n",
       "      <td>18829079</td>\n",
       "      <td>b'\\x91J\\x89\\x0c?\\xfb\\xc9\\xc8\"\\x15\\x86^\\xe2\\x95...</td>\n",
       "      <td>75111</td>\n",
       "      <td>1703099075</td>\n",
       "      <td>58750003716598352816469</td>\n",
       "    </tr>\n",
       "    <tr>\n",
       "      <th>4316</th>\n",
       "      <td>56521316854</td>\n",
       "      <td>0</td>\n",
       "      <td>30000000</td>\n",
       "      <td>8966663</td>\n",
       "      <td>b'\\x18\\xc8&amp;fdK\\xa8\\xb9\\xef\\xa8\\xb0\\xeb\\xae\\xf6...</td>\n",
       "      <td>125</td>\n",
       "      <td>18829129</td>\n",
       "      <td>b'\\xc0\\xb6\\xcar\\x15\\x93\\xd8\\xa7\\x18\\x1aC\\x00\\x...</td>\n",
       "      <td>56162</td>\n",
       "      <td>1703099687</td>\n",
       "      <td>58750003716598352816469</td>\n",
       "    </tr>\n",
       "    <tr>\n",
       "      <th>4317</th>\n",
       "      <td>52911135493</td>\n",
       "      <td>0</td>\n",
       "      <td>30000000</td>\n",
       "      <td>10323736</td>\n",
       "      <td>b'RU\\xcb?\\x9a696\\xbf\\xea\\xc4\\x7f!\\r\\x1c\\xe8\\xc...</td>\n",
       "      <td>139</td>\n",
       "      <td>18829179</td>\n",
       "      <td>b'X\\xf2\\x86\\xa3b\\xa6\\x10-\\x19?\\x16\\x8e\\xa6\\xbf...</td>\n",
       "      <td>82891</td>\n",
       "      <td>1703100287</td>\n",
       "      <td>58750003716598352816469</td>\n",
       "    </tr>\n",
       "    <tr>\n",
       "      <th>4318</th>\n",
       "      <td>54309170262</td>\n",
       "      <td>0</td>\n",
       "      <td>30000000</td>\n",
       "      <td>11620933</td>\n",
       "      <td>b';\\xb0\\xab\\x0e\\x82\\xd3a\\x191\\x18\\xf9\\x0b\\x14H...</td>\n",
       "      <td>133</td>\n",
       "      <td>18829229</td>\n",
       "      <td>b\"\\xa3\\xebq\\xd0\\xadn\\x04\\xf7\\x92\\xf9\\x8a\\x02\\x...</td>\n",
       "      <td>54112</td>\n",
       "      <td>1703100899</td>\n",
       "      <td>58750003716598352816469</td>\n",
       "    </tr>\n",
       "    <tr>\n",
       "      <th>4319</th>\n",
       "      <td>53686892347</td>\n",
       "      <td>0</td>\n",
       "      <td>30000000</td>\n",
       "      <td>11458166</td>\n",
       "      <td>b'`\\xfa&amp;\\x84\\xf1Ep\\x03\\x9a\\x85Nf\\xdb\\xc3 \\x91G...</td>\n",
       "      <td>135</td>\n",
       "      <td>18829279</td>\n",
       "      <td>b'\\x8e%ve7f\\xe8\\xa3\\xd4\\xb0\\xc0{~\\xb5i,\\xe6\\x9...</td>\n",
       "      <td>51397</td>\n",
       "      <td>1703101499</td>\n",
       "      <td>58750003716598352816469</td>\n",
       "    </tr>\n",
       "  </tbody>\n",
       "</table>\n",
       "<p>4320 rows × 11 columns</p>\n",
       "</div>"
      ],
      "text/plain": [
       "         base_fee  difficulty  gas_limit  gas_used  \\\n",
       "0     21906158812           0   30000000  29984800   \n",
       "1     27643132205           0   30000000  14775482   \n",
       "2     27710169280           0   30000000  10790788   \n",
       "3     31041904230           0   30000000  14433477   \n",
       "4     34828180467           0   30000000  17358964   \n",
       "...           ...         ...        ...       ...   \n",
       "4315  57214396399           0   30000000  12535259   \n",
       "4316  56521316854           0   30000000   8966663   \n",
       "4317  52911135493           0   30000000  10323736   \n",
       "4318  54309170262           0   30000000  11620933   \n",
       "4319  53686892347           0   30000000  11458166   \n",
       "\n",
       "                                                   hash  num_transactions  \\\n",
       "0     b'\\x81\\xbdd@}\\xf2&\\xaf\\xe9\\x00y\\x8b\\xa3\\xc6B\\x...               369   \n",
       "1     b'E;\\xfcQ\\xa6$\\\\\\x1eh7\\x8d\\x94\\x08\\xac\\xcfE\\xd...               124   \n",
       "2     b'\\xd1\\xe4S\\xc3\\x1cJ\\xdf\\xe8j\\xb7&\\xb6\\ru\\x86\\...               137   \n",
       "3     b'XZ\\x99\\xe4\\x1fDpS\\xfc\\x08\\x0b\\xb0\\xfbQ\\x06]\\...               156   \n",
       "4     b'\\x7f\\xac\\x88\\x808 B\\xd6<.Vn\\x8fJ\\xe2D\\xf3\\xc...               201   \n",
       "...                                                 ...               ...   \n",
       "4315  b'\\x88\\xc5V\\x9d{\\xae\\x0f\\xdf\\xa7\\xacB\\xb6\\xe51...               141   \n",
       "4316  b'\\x18\\xc8&fdK\\xa8\\xb9\\xef\\xa8\\xb0\\xeb\\xae\\xf6...               125   \n",
       "4317  b'RU\\xcb?\\x9a696\\xbf\\xea\\xc4\\x7f!\\r\\x1c\\xe8\\xc...               139   \n",
       "4318  b';\\xb0\\xab\\x0e\\x82\\xd3a\\x191\\x18\\xf9\\x0b\\x14H...               133   \n",
       "4319  b'`\\xfa&\\x84\\xf1Ep\\x03\\x9a\\x85Nf\\xdb\\xc3 \\x91G...               135   \n",
       "\n",
       "        number                                        parent_hash    size  \\\n",
       "0     18613329  b'\\xe8\\xec*6s\\xea\\xd1\\xd9\\xc9\\x97\\xe0\\x88\\x8b@...  240977   \n",
       "1     18613379  b'\\xfd1W\\xc6~F\\r\\x1fQ\\x00\\x17R\\xa4s\\x83\\x10\\x0...  128002   \n",
       "2     18613429  b'\\x9a\\xa6Z@\\x1a6i\\x9d\\xea\\x85)!\\x11\\xd7)A\\xe6...   80965   \n",
       "3     18613479  b'\\x05PA.ozY\\xc1w\\x088>\\x00\\xf4\\x9e@\\x8e\\x8d\\x...  142038   \n",
       "4     18613529  b'\\xfb~\\xdfq\\xd1\\xb2=\\xe0/\\xfa+\\xc2\\xdeL.\\xe2X...  149380   \n",
       "...        ...                                                ...     ...   \n",
       "4315  18829079  b'\\x91J\\x89\\x0c?\\xfb\\xc9\\xc8\"\\x15\\x86^\\xe2\\x95...   75111   \n",
       "4316  18829129  b'\\xc0\\xb6\\xcar\\x15\\x93\\xd8\\xa7\\x18\\x1aC\\x00\\x...   56162   \n",
       "4317  18829179  b'X\\xf2\\x86\\xa3b\\xa6\\x10-\\x19?\\x16\\x8e\\xa6\\xbf...   82891   \n",
       "4318  18829229  b\"\\xa3\\xebq\\xd0\\xadn\\x04\\xf7\\x92\\xf9\\x8a\\x02\\x...   54112   \n",
       "4319  18829279  b'\\x8e%ve7f\\xe8\\xa3\\xd4\\xb0\\xc0{~\\xb5i,\\xe6\\x9...   51397   \n",
       "\n",
       "       timestamp         total_difficulty  \n",
       "0     1700487263  58750003716598352816469  \n",
       "1     1700487875  58750003716598352816469  \n",
       "2     1700488487  58750003716598352816469  \n",
       "3     1700489087  58750003716598352816469  \n",
       "4     1700489711  58750003716598352816469  \n",
       "...          ...                      ...  \n",
       "4315  1703099075  58750003716598352816469  \n",
       "4316  1703099687  58750003716598352816469  \n",
       "4317  1703100287  58750003716598352816469  \n",
       "4318  1703100899  58750003716598352816469  \n",
       "4319  1703101499  58750003716598352816469  \n",
       "\n",
       "[4320 rows x 11 columns]"
      ]
     },
     "execution_count": 8,
     "metadata": {},
     "output_type": "execute_result"
    }
   ],
   "source": [
    "df = pd.read_csv(FILENAME)\n",
    "df"
   ]
  },
  {
   "cell_type": "code",
   "execution_count": 11,
   "id": "cdbc86ce-b2bc-4ca1-a923-4e4ce552a75f",
   "metadata": {},
   "outputs": [
    {
     "data": {
      "text/plain": [
       "0       21.906159\n",
       "1       27.643132\n",
       "2       27.710169\n",
       "3       31.041904\n",
       "4       34.828180\n",
       "          ...    \n",
       "4315    57.214396\n",
       "4316    56.521317\n",
       "4317    52.911135\n",
       "4318    54.309170\n",
       "4319    53.686892\n",
       "Name: base_fee_gwei, Length: 4320, dtype: float64"
      ]
     },
     "execution_count": 11,
     "metadata": {},
     "output_type": "execute_result"
    }
   ],
   "source": [
    "# base fee in gwei\n",
    "df['base_fee_gwei'] = df['base_fee'] / 1e9\n",
    "df['base_fee_gwei']"
   ]
  },
  {
   "cell_type": "code",
   "execution_count": 15,
   "id": "d0daa982-3041-47fe-8fcd-1402fe1be88a",
   "metadata": {},
   "outputs": [
    {
     "data": {
      "text/plain": [
       "0            NaN\n",
       "1       0.232609\n",
       "2       0.002422\n",
       "3       0.113539\n",
       "4       0.115089\n",
       "          ...   \n",
       "4315    0.128057\n",
       "4316   -0.012188\n",
       "4317   -0.066004\n",
       "4318    0.026079\n",
       "4319   -0.011524\n",
       "Name: dlog_base_fee_gwei, Length: 4320, dtype: float64"
      ]
     },
     "execution_count": 15,
     "metadata": {},
     "output_type": "execute_result"
    }
   ],
   "source": [
    "# log base fee diffs in gwei for 50 block (~10min) steps\n",
    "df['dlog_base_fee_gwei'] = np.log(df['base_fee_gwei']).diff()\n",
    "df['dlog_base_fee_gwei']"
   ]
  },
  {
   "cell_type": "code",
   "execution_count": 16,
   "id": "b20b2233-bc36-415c-b737-819f0f98bb92",
   "metadata": {},
   "outputs": [
    {
     "data": {
      "text/html": [
       "<div>\n",
       "<style scoped>\n",
       "    .dataframe tbody tr th:only-of-type {\n",
       "        vertical-align: middle;\n",
       "    }\n",
       "\n",
       "    .dataframe tbody tr th {\n",
       "        vertical-align: top;\n",
       "    }\n",
       "\n",
       "    .dataframe thead th {\n",
       "        text-align: right;\n",
       "    }\n",
       "</style>\n",
       "<table border=\"1\" class=\"dataframe\">\n",
       "  <thead>\n",
       "    <tr style=\"text-align: right;\">\n",
       "      <th></th>\n",
       "      <th>base_fee</th>\n",
       "      <th>difficulty</th>\n",
       "      <th>gas_limit</th>\n",
       "      <th>gas_used</th>\n",
       "      <th>hash</th>\n",
       "      <th>num_transactions</th>\n",
       "      <th>number</th>\n",
       "      <th>parent_hash</th>\n",
       "      <th>size</th>\n",
       "      <th>timestamp</th>\n",
       "      <th>total_difficulty</th>\n",
       "      <th>base_fee_gwei</th>\n",
       "      <th>dlog_base_fee_gwei</th>\n",
       "    </tr>\n",
       "  </thead>\n",
       "  <tbody>\n",
       "    <tr>\n",
       "      <th>0</th>\n",
       "      <td>21906158812</td>\n",
       "      <td>0</td>\n",
       "      <td>30000000</td>\n",
       "      <td>29984800</td>\n",
       "      <td>b'\\x81\\xbdd@}\\xf2&amp;\\xaf\\xe9\\x00y\\x8b\\xa3\\xc6B\\x...</td>\n",
       "      <td>369</td>\n",
       "      <td>18613329</td>\n",
       "      <td>b'\\xe8\\xec*6s\\xea\\xd1\\xd9\\xc9\\x97\\xe0\\x88\\x8b@...</td>\n",
       "      <td>240977</td>\n",
       "      <td>1700487263</td>\n",
       "      <td>58750003716598352816469</td>\n",
       "      <td>21.906159</td>\n",
       "      <td>NaN</td>\n",
       "    </tr>\n",
       "    <tr>\n",
       "      <th>1</th>\n",
       "      <td>27643132205</td>\n",
       "      <td>0</td>\n",
       "      <td>30000000</td>\n",
       "      <td>14775482</td>\n",
       "      <td>b'E;\\xfcQ\\xa6$\\\\\\x1eh7\\x8d\\x94\\x08\\xac\\xcfE\\xd...</td>\n",
       "      <td>124</td>\n",
       "      <td>18613379</td>\n",
       "      <td>b'\\xfd1W\\xc6~F\\r\\x1fQ\\x00\\x17R\\xa4s\\x83\\x10\\x0...</td>\n",
       "      <td>128002</td>\n",
       "      <td>1700487875</td>\n",
       "      <td>58750003716598352816469</td>\n",
       "      <td>27.643132</td>\n",
       "      <td>0.232609</td>\n",
       "    </tr>\n",
       "    <tr>\n",
       "      <th>2</th>\n",
       "      <td>27710169280</td>\n",
       "      <td>0</td>\n",
       "      <td>30000000</td>\n",
       "      <td>10790788</td>\n",
       "      <td>b'\\xd1\\xe4S\\xc3\\x1cJ\\xdf\\xe8j\\xb7&amp;\\xb6\\ru\\x86\\...</td>\n",
       "      <td>137</td>\n",
       "      <td>18613429</td>\n",
       "      <td>b'\\x9a\\xa6Z@\\x1a6i\\x9d\\xea\\x85)!\\x11\\xd7)A\\xe6...</td>\n",
       "      <td>80965</td>\n",
       "      <td>1700488487</td>\n",
       "      <td>58750003716598352816469</td>\n",
       "      <td>27.710169</td>\n",
       "      <td>0.002422</td>\n",
       "    </tr>\n",
       "    <tr>\n",
       "      <th>3</th>\n",
       "      <td>31041904230</td>\n",
       "      <td>0</td>\n",
       "      <td>30000000</td>\n",
       "      <td>14433477</td>\n",
       "      <td>b'XZ\\x99\\xe4\\x1fDpS\\xfc\\x08\\x0b\\xb0\\xfbQ\\x06]\\...</td>\n",
       "      <td>156</td>\n",
       "      <td>18613479</td>\n",
       "      <td>b'\\x05PA.ozY\\xc1w\\x088&gt;\\x00\\xf4\\x9e@\\x8e\\x8d\\x...</td>\n",
       "      <td>142038</td>\n",
       "      <td>1700489087</td>\n",
       "      <td>58750003716598352816469</td>\n",
       "      <td>31.041904</td>\n",
       "      <td>0.113539</td>\n",
       "    </tr>\n",
       "    <tr>\n",
       "      <th>4</th>\n",
       "      <td>34828180467</td>\n",
       "      <td>0</td>\n",
       "      <td>30000000</td>\n",
       "      <td>17358964</td>\n",
       "      <td>b'\\x7f\\xac\\x88\\x808 B\\xd6&lt;.Vn\\x8fJ\\xe2D\\xf3\\xc...</td>\n",
       "      <td>201</td>\n",
       "      <td>18613529</td>\n",
       "      <td>b'\\xfb~\\xdfq\\xd1\\xb2=\\xe0/\\xfa+\\xc2\\xdeL.\\xe2X...</td>\n",
       "      <td>149380</td>\n",
       "      <td>1700489711</td>\n",
       "      <td>58750003716598352816469</td>\n",
       "      <td>34.828180</td>\n",
       "      <td>0.115089</td>\n",
       "    </tr>\n",
       "    <tr>\n",
       "      <th>...</th>\n",
       "      <td>...</td>\n",
       "      <td>...</td>\n",
       "      <td>...</td>\n",
       "      <td>...</td>\n",
       "      <td>...</td>\n",
       "      <td>...</td>\n",
       "      <td>...</td>\n",
       "      <td>...</td>\n",
       "      <td>...</td>\n",
       "      <td>...</td>\n",
       "      <td>...</td>\n",
       "      <td>...</td>\n",
       "      <td>...</td>\n",
       "    </tr>\n",
       "    <tr>\n",
       "      <th>4315</th>\n",
       "      <td>57214396399</td>\n",
       "      <td>0</td>\n",
       "      <td>30000000</td>\n",
       "      <td>12535259</td>\n",
       "      <td>b'\\x88\\xc5V\\x9d{\\xae\\x0f\\xdf\\xa7\\xacB\\xb6\\xe51...</td>\n",
       "      <td>141</td>\n",
       "      <td>18829079</td>\n",
       "      <td>b'\\x91J\\x89\\x0c?\\xfb\\xc9\\xc8\"\\x15\\x86^\\xe2\\x95...</td>\n",
       "      <td>75111</td>\n",
       "      <td>1703099075</td>\n",
       "      <td>58750003716598352816469</td>\n",
       "      <td>57.214396</td>\n",
       "      <td>0.128057</td>\n",
       "    </tr>\n",
       "    <tr>\n",
       "      <th>4316</th>\n",
       "      <td>56521316854</td>\n",
       "      <td>0</td>\n",
       "      <td>30000000</td>\n",
       "      <td>8966663</td>\n",
       "      <td>b'\\x18\\xc8&amp;fdK\\xa8\\xb9\\xef\\xa8\\xb0\\xeb\\xae\\xf6...</td>\n",
       "      <td>125</td>\n",
       "      <td>18829129</td>\n",
       "      <td>b'\\xc0\\xb6\\xcar\\x15\\x93\\xd8\\xa7\\x18\\x1aC\\x00\\x...</td>\n",
       "      <td>56162</td>\n",
       "      <td>1703099687</td>\n",
       "      <td>58750003716598352816469</td>\n",
       "      <td>56.521317</td>\n",
       "      <td>-0.012188</td>\n",
       "    </tr>\n",
       "    <tr>\n",
       "      <th>4317</th>\n",
       "      <td>52911135493</td>\n",
       "      <td>0</td>\n",
       "      <td>30000000</td>\n",
       "      <td>10323736</td>\n",
       "      <td>b'RU\\xcb?\\x9a696\\xbf\\xea\\xc4\\x7f!\\r\\x1c\\xe8\\xc...</td>\n",
       "      <td>139</td>\n",
       "      <td>18829179</td>\n",
       "      <td>b'X\\xf2\\x86\\xa3b\\xa6\\x10-\\x19?\\x16\\x8e\\xa6\\xbf...</td>\n",
       "      <td>82891</td>\n",
       "      <td>1703100287</td>\n",
       "      <td>58750003716598352816469</td>\n",
       "      <td>52.911135</td>\n",
       "      <td>-0.066004</td>\n",
       "    </tr>\n",
       "    <tr>\n",
       "      <th>4318</th>\n",
       "      <td>54309170262</td>\n",
       "      <td>0</td>\n",
       "      <td>30000000</td>\n",
       "      <td>11620933</td>\n",
       "      <td>b';\\xb0\\xab\\x0e\\x82\\xd3a\\x191\\x18\\xf9\\x0b\\x14H...</td>\n",
       "      <td>133</td>\n",
       "      <td>18829229</td>\n",
       "      <td>b\"\\xa3\\xebq\\xd0\\xadn\\x04\\xf7\\x92\\xf9\\x8a\\x02\\x...</td>\n",
       "      <td>54112</td>\n",
       "      <td>1703100899</td>\n",
       "      <td>58750003716598352816469</td>\n",
       "      <td>54.309170</td>\n",
       "      <td>0.026079</td>\n",
       "    </tr>\n",
       "    <tr>\n",
       "      <th>4319</th>\n",
       "      <td>53686892347</td>\n",
       "      <td>0</td>\n",
       "      <td>30000000</td>\n",
       "      <td>11458166</td>\n",
       "      <td>b'`\\xfa&amp;\\x84\\xf1Ep\\x03\\x9a\\x85Nf\\xdb\\xc3 \\x91G...</td>\n",
       "      <td>135</td>\n",
       "      <td>18829279</td>\n",
       "      <td>b'\\x8e%ve7f\\xe8\\xa3\\xd4\\xb0\\xc0{~\\xb5i,\\xe6\\x9...</td>\n",
       "      <td>51397</td>\n",
       "      <td>1703101499</td>\n",
       "      <td>58750003716598352816469</td>\n",
       "      <td>53.686892</td>\n",
       "      <td>-0.011524</td>\n",
       "    </tr>\n",
       "  </tbody>\n",
       "</table>\n",
       "<p>4320 rows × 13 columns</p>\n",
       "</div>"
      ],
      "text/plain": [
       "         base_fee  difficulty  gas_limit  gas_used  \\\n",
       "0     21906158812           0   30000000  29984800   \n",
       "1     27643132205           0   30000000  14775482   \n",
       "2     27710169280           0   30000000  10790788   \n",
       "3     31041904230           0   30000000  14433477   \n",
       "4     34828180467           0   30000000  17358964   \n",
       "...           ...         ...        ...       ...   \n",
       "4315  57214396399           0   30000000  12535259   \n",
       "4316  56521316854           0   30000000   8966663   \n",
       "4317  52911135493           0   30000000  10323736   \n",
       "4318  54309170262           0   30000000  11620933   \n",
       "4319  53686892347           0   30000000  11458166   \n",
       "\n",
       "                                                   hash  num_transactions  \\\n",
       "0     b'\\x81\\xbdd@}\\xf2&\\xaf\\xe9\\x00y\\x8b\\xa3\\xc6B\\x...               369   \n",
       "1     b'E;\\xfcQ\\xa6$\\\\\\x1eh7\\x8d\\x94\\x08\\xac\\xcfE\\xd...               124   \n",
       "2     b'\\xd1\\xe4S\\xc3\\x1cJ\\xdf\\xe8j\\xb7&\\xb6\\ru\\x86\\...               137   \n",
       "3     b'XZ\\x99\\xe4\\x1fDpS\\xfc\\x08\\x0b\\xb0\\xfbQ\\x06]\\...               156   \n",
       "4     b'\\x7f\\xac\\x88\\x808 B\\xd6<.Vn\\x8fJ\\xe2D\\xf3\\xc...               201   \n",
       "...                                                 ...               ...   \n",
       "4315  b'\\x88\\xc5V\\x9d{\\xae\\x0f\\xdf\\xa7\\xacB\\xb6\\xe51...               141   \n",
       "4316  b'\\x18\\xc8&fdK\\xa8\\xb9\\xef\\xa8\\xb0\\xeb\\xae\\xf6...               125   \n",
       "4317  b'RU\\xcb?\\x9a696\\xbf\\xea\\xc4\\x7f!\\r\\x1c\\xe8\\xc...               139   \n",
       "4318  b';\\xb0\\xab\\x0e\\x82\\xd3a\\x191\\x18\\xf9\\x0b\\x14H...               133   \n",
       "4319  b'`\\xfa&\\x84\\xf1Ep\\x03\\x9a\\x85Nf\\xdb\\xc3 \\x91G...               135   \n",
       "\n",
       "        number                                        parent_hash    size  \\\n",
       "0     18613329  b'\\xe8\\xec*6s\\xea\\xd1\\xd9\\xc9\\x97\\xe0\\x88\\x8b@...  240977   \n",
       "1     18613379  b'\\xfd1W\\xc6~F\\r\\x1fQ\\x00\\x17R\\xa4s\\x83\\x10\\x0...  128002   \n",
       "2     18613429  b'\\x9a\\xa6Z@\\x1a6i\\x9d\\xea\\x85)!\\x11\\xd7)A\\xe6...   80965   \n",
       "3     18613479  b'\\x05PA.ozY\\xc1w\\x088>\\x00\\xf4\\x9e@\\x8e\\x8d\\x...  142038   \n",
       "4     18613529  b'\\xfb~\\xdfq\\xd1\\xb2=\\xe0/\\xfa+\\xc2\\xdeL.\\xe2X...  149380   \n",
       "...        ...                                                ...     ...   \n",
       "4315  18829079  b'\\x91J\\x89\\x0c?\\xfb\\xc9\\xc8\"\\x15\\x86^\\xe2\\x95...   75111   \n",
       "4316  18829129  b'\\xc0\\xb6\\xcar\\x15\\x93\\xd8\\xa7\\x18\\x1aC\\x00\\x...   56162   \n",
       "4317  18829179  b'X\\xf2\\x86\\xa3b\\xa6\\x10-\\x19?\\x16\\x8e\\xa6\\xbf...   82891   \n",
       "4318  18829229  b\"\\xa3\\xebq\\xd0\\xadn\\x04\\xf7\\x92\\xf9\\x8a\\x02\\x...   54112   \n",
       "4319  18829279  b'\\x8e%ve7f\\xe8\\xa3\\xd4\\xb0\\xc0{~\\xb5i,\\xe6\\x9...   51397   \n",
       "\n",
       "       timestamp         total_difficulty  base_fee_gwei  dlog_base_fee_gwei  \n",
       "0     1700487263  58750003716598352816469      21.906159                 NaN  \n",
       "1     1700487875  58750003716598352816469      27.643132            0.232609  \n",
       "2     1700488487  58750003716598352816469      27.710169            0.002422  \n",
       "3     1700489087  58750003716598352816469      31.041904            0.113539  \n",
       "4     1700489711  58750003716598352816469      34.828180            0.115089  \n",
       "...          ...                      ...            ...                 ...  \n",
       "4315  1703099075  58750003716598352816469      57.214396            0.128057  \n",
       "4316  1703099687  58750003716598352816469      56.521317           -0.012188  \n",
       "4317  1703100287  58750003716598352816469      52.911135           -0.066004  \n",
       "4318  1703100899  58750003716598352816469      54.309170            0.026079  \n",
       "4319  1703101499  58750003716598352816469      53.686892           -0.011524  \n",
       "\n",
       "[4320 rows x 13 columns]"
      ]
     },
     "execution_count": 16,
     "metadata": {},
     "output_type": "execute_result"
    }
   ],
   "source": [
    "df"
   ]
  },
  {
   "cell_type": "code",
   "execution_count": 26,
   "id": "c5fd50c5-eccb-4598-8d34-717d8f05646e",
   "metadata": {},
   "outputs": [
    {
     "data": {
      "text/html": [
       "<div>\n",
       "<style scoped>\n",
       "    .dataframe tbody tr th:only-of-type {\n",
       "        vertical-align: middle;\n",
       "    }\n",
       "\n",
       "    .dataframe tbody tr th {\n",
       "        vertical-align: top;\n",
       "    }\n",
       "\n",
       "    .dataframe thead th {\n",
       "        text-align: right;\n",
       "    }\n",
       "</style>\n",
       "<table border=\"1\" class=\"dataframe\">\n",
       "  <thead>\n",
       "    <tr style=\"text-align: right;\">\n",
       "      <th></th>\n",
       "      <th>base_fee</th>\n",
       "      <th>difficulty</th>\n",
       "      <th>gas_limit</th>\n",
       "      <th>gas_used</th>\n",
       "      <th>num_transactions</th>\n",
       "      <th>number</th>\n",
       "      <th>size</th>\n",
       "      <th>timestamp</th>\n",
       "      <th>base_fee_gwei</th>\n",
       "      <th>dlog_base_fee_gwei</th>\n",
       "    </tr>\n",
       "  </thead>\n",
       "  <tbody>\n",
       "    <tr>\n",
       "      <th>count</th>\n",
       "      <td>4.320000e+03</td>\n",
       "      <td>4320.0</td>\n",
       "      <td>4.320000e+03</td>\n",
       "      <td>4.320000e+03</td>\n",
       "      <td>4320.000000</td>\n",
       "      <td>4.320000e+03</td>\n",
       "      <td>4.320000e+03</td>\n",
       "      <td>4.320000e+03</td>\n",
       "      <td>4320.000000</td>\n",
       "      <td>4319.000000</td>\n",
       "    </tr>\n",
       "    <tr>\n",
       "      <th>mean</th>\n",
       "      <td>4.185619e+10</td>\n",
       "      <td>0.0</td>\n",
       "      <td>2.999970e+07</td>\n",
       "      <td>1.511113e+07</td>\n",
       "      <td>157.595833</td>\n",
       "      <td>1.872130e+07</td>\n",
       "      <td>1.836671e+05</td>\n",
       "      <td>1.701794e+09</td>\n",
       "      <td>41.856189</td>\n",
       "      <td>0.000208</td>\n",
       "    </tr>\n",
       "    <tr>\n",
       "      <th>std</th>\n",
       "      <td>1.846392e+10</td>\n",
       "      <td>0.0</td>\n",
       "      <td>3.074033e+03</td>\n",
       "      <td>5.030244e+06</td>\n",
       "      <td>50.781036</td>\n",
       "      <td>6.236105e+04</td>\n",
       "      <td>1.859661e+05</td>\n",
       "      <td>7.547462e+05</td>\n",
       "      <td>18.463922</td>\n",
       "      <td>0.162255</td>\n",
       "    </tr>\n",
       "    <tr>\n",
       "      <th>min</th>\n",
       "      <td>1.606294e+10</td>\n",
       "      <td>0.0</td>\n",
       "      <td>2.997068e+07</td>\n",
       "      <td>0.000000e+00</td>\n",
       "      <td>0.000000</td>\n",
       "      <td>1.861333e+07</td>\n",
       "      <td>1.131000e+03</td>\n",
       "      <td>1.700487e+09</td>\n",
       "      <td>16.062942</td>\n",
       "      <td>-1.803706</td>\n",
       "    </tr>\n",
       "    <tr>\n",
       "      <th>25%</th>\n",
       "      <td>3.000910e+10</td>\n",
       "      <td>0.0</td>\n",
       "      <td>3.000000e+07</td>\n",
       "      <td>1.179862e+07</td>\n",
       "      <td>128.000000</td>\n",
       "      <td>1.866732e+07</td>\n",
       "      <td>7.093800e+04</td>\n",
       "      <td>1.701141e+09</td>\n",
       "      <td>30.009101</td>\n",
       "      <td>-0.086174</td>\n",
       "    </tr>\n",
       "    <tr>\n",
       "      <th>50%</th>\n",
       "      <td>3.838966e+10</td>\n",
       "      <td>0.0</td>\n",
       "      <td>3.000000e+07</td>\n",
       "      <td>1.409610e+07</td>\n",
       "      <td>149.000000</td>\n",
       "      <td>1.872130e+07</td>\n",
       "      <td>1.217775e+05</td>\n",
       "      <td>1.701793e+09</td>\n",
       "      <td>38.389662</td>\n",
       "      <td>-0.005682</td>\n",
       "    </tr>\n",
       "    <tr>\n",
       "      <th>75%</th>\n",
       "      <td>4.958389e+10</td>\n",
       "      <td>0.0</td>\n",
       "      <td>3.000000e+07</td>\n",
       "      <td>1.745437e+07</td>\n",
       "      <td>177.000000</td>\n",
       "      <td>1.877529e+07</td>\n",
       "      <td>2.117650e+05</td>\n",
       "      <td>1.702447e+09</td>\n",
       "      <td>49.583891</td>\n",
       "      <td>0.077513</td>\n",
       "    </tr>\n",
       "    <tr>\n",
       "      <th>max</th>\n",
       "      <td>3.170230e+11</td>\n",
       "      <td>0.0</td>\n",
       "      <td>3.002930e+07</td>\n",
       "      <td>2.999933e+07</td>\n",
       "      <td>718.000000</td>\n",
       "      <td>1.882928e+07</td>\n",
       "      <td>1.886800e+06</td>\n",
       "      <td>1.703101e+09</td>\n",
       "      <td>317.023014</td>\n",
       "      <td>1.916531</td>\n",
       "    </tr>\n",
       "  </tbody>\n",
       "</table>\n",
       "</div>"
      ],
      "text/plain": [
       "           base_fee  difficulty     gas_limit      gas_used  num_transactions  \\\n",
       "count  4.320000e+03      4320.0  4.320000e+03  4.320000e+03       4320.000000   \n",
       "mean   4.185619e+10         0.0  2.999970e+07  1.511113e+07        157.595833   \n",
       "std    1.846392e+10         0.0  3.074033e+03  5.030244e+06         50.781036   \n",
       "min    1.606294e+10         0.0  2.997068e+07  0.000000e+00          0.000000   \n",
       "25%    3.000910e+10         0.0  3.000000e+07  1.179862e+07        128.000000   \n",
       "50%    3.838966e+10         0.0  3.000000e+07  1.409610e+07        149.000000   \n",
       "75%    4.958389e+10         0.0  3.000000e+07  1.745437e+07        177.000000   \n",
       "max    3.170230e+11         0.0  3.002930e+07  2.999933e+07        718.000000   \n",
       "\n",
       "             number          size     timestamp  base_fee_gwei  \\\n",
       "count  4.320000e+03  4.320000e+03  4.320000e+03    4320.000000   \n",
       "mean   1.872130e+07  1.836671e+05  1.701794e+09      41.856189   \n",
       "std    6.236105e+04  1.859661e+05  7.547462e+05      18.463922   \n",
       "min    1.861333e+07  1.131000e+03  1.700487e+09      16.062942   \n",
       "25%    1.866732e+07  7.093800e+04  1.701141e+09      30.009101   \n",
       "50%    1.872130e+07  1.217775e+05  1.701793e+09      38.389662   \n",
       "75%    1.877529e+07  2.117650e+05  1.702447e+09      49.583891   \n",
       "max    1.882928e+07  1.886800e+06  1.703101e+09     317.023014   \n",
       "\n",
       "       dlog_base_fee_gwei  \n",
       "count         4319.000000  \n",
       "mean             0.000208  \n",
       "std              0.162255  \n",
       "min             -1.803706  \n",
       "25%             -0.086174  \n",
       "50%             -0.005682  \n",
       "75%              0.077513  \n",
       "max              1.916531  "
      ]
     },
     "execution_count": 26,
     "metadata": {},
     "output_type": "execute_result"
    }
   ],
   "source": [
    "df.describe()"
   ]
  },
  {
   "cell_type": "code",
   "execution_count": 42,
   "id": "978c1428-19a2-42c1-aad9-821c0fe3b028",
   "metadata": {},
   "outputs": [
    {
     "data": {
      "text/plain": [
       "<Axes: ylabel='Frequency'>"
      ]
     },
     "execution_count": 42,
     "metadata": {},
     "output_type": "execute_result"
    },
    {
     "data": {
      "image/png": "[encoded data removed]",
      "text/plain": [
       "<Figure size 640x480 with 1 Axes>"
      ]
     },
     "metadata": {},
     "output_type": "display_data"
    }
   ],
   "source": [
    "# concentration around 50 gwei over past month\n",
    "df.plot(y='base_fee_gwei', kind='hist', bins=200, density=True, label='base fee (gwei)', color='C1', edgecolor='k')"
   ]
  },
  {
   "cell_type": "code",
   "execution_count": 94,
   "id": "c8850ecb-bbb3-46bf-b043-7822c14c68e2",
   "metadata": {},
   "outputs": [
    {
     "data": {
      "text/plain": [
       "<Axes: ylabel='Frequency'>"
      ]
     },
     "execution_count": 94,
     "metadata": {},
     "output_type": "execute_result"
    },
    {
     "data": {
      "image/png": "[encoded data removed]",
      "text/plain": [
       "<Figure size 640x480 with 1 Axes>"
      ]
     },
     "metadata": {},
     "output_type": "display_data"
    }
   ],
   "source": [
    "df.plot(y='base_fee_gwei', kind='hist', cumulative=True, bins=200, density=True, label='base fee (ECDF)', color='C1', edgecolor='k')"
   ]
  },
  {
   "cell_type": "code",
   "execution_count": 98,
   "id": "ddd44baa-96df-4dd3-845b-14bc75e6d512",
   "metadata": {},
   "outputs": [],
   "source": [
    "# what's the X% empirical quantile over last month with 50 block (~ 10 min) candles?\n",
    "ecdf_res = stats.ecdf(df['base_fee_gwei'])\n",
    "ecdf_base_fee_gwei = ecdf_res.cdf"
   ]
  },
  {
   "cell_type": "code",
   "execution_count": 99,
   "id": "0717add7-ffb0-4d0b-9ab6-693ffa853f28",
   "metadata": {},
   "outputs": [
    {
     "data": {
      "text/plain": [
       "ECDFResult(cdf=EmpiricalDistributionFunction(quantiles=array([ 16.06294203,  16.37112405,  16.44280454, ..., 239.67816893,\n",
       "       243.91769361, 317.02301447]), probabilities=array([2.31481481e-04, 4.62962963e-04, 6.94444444e-04, ...,\n",
       "       9.99537037e-01, 9.99768519e-01, 1.00000000e+00])), sf=EmpiricalDistributionFunction(quantiles=array([ 16.06294203,  16.37112405,  16.44280454, ..., 239.67816893,\n",
       "       243.91769361, 317.02301447]), probabilities=array([9.99768519e-01, 9.99537037e-01, 9.99305556e-01, ...,\n",
       "       4.62962963e-04, 2.31481481e-04, 0.00000000e+00])))"
      ]
     },
     "execution_count": 99,
     "metadata": {},
     "output_type": "execute_result"
    }
   ],
   "source": [
    "ecdf_res"
   ]
  },
  {
   "cell_type": "code",
   "execution_count": 109,
   "id": "7bb58416-65ed-47c8-8599-d933154f5187",
   "metadata": {},
   "outputs": [
    {
     "data": {
      "text/plain": [
       "array([ 40,  60,  80, 100, 120, 140, 160, 180, 200])"
      ]
     },
     "execution_count": 109,
     "metadata": {},
     "output_type": "execute_result"
    }
   ],
   "source": [
    "# ... empirical quantiles over last month for range of base fee prices with 50 block (~ 10 min) candles\n",
    "base_fees = np.arange(40, 201, 20)\n",
    "base_fees"
   ]
  },
  {
   "cell_type": "code",
   "execution_count": 110,
   "id": "8aaf983a-3c56-42d7-ad0c-ea8be77236a4",
   "metadata": {},
   "outputs": [
    {
     "data": {
      "text/plain": [
       "array([0.53680556, 0.87847222, 0.97106481, 0.98703704, 0.99212963,\n",
       "       0.99583333, 0.99861111, 0.99930556, 0.99930556])"
      ]
     },
     "execution_count": 110,
     "metadata": {},
     "output_type": "execute_result"
    }
   ],
   "source": [
    "ecdf_base_fee_gwei.evaluate(base_fees)"
   ]
  },
  {
   "cell_type": "code",
   "execution_count": null,
   "id": "3cdcf42a-a299-4ead-b11d-ad45a670aad5",
   "metadata": {},
   "outputs": [],
   "source": [
    "# ... about 53.7% chance of being below the mean base fee\n",
    "# ... about 97.1% chance of being below 2x mean base fee\n",
    "# ... about 99.2% chance of being below 3x mean base fee\n",
    "# ... about 99.9% cahnce of being below 4x mean base fee"
   ]
  },
  {
   "cell_type": "code",
   "execution_count": 32,
   "id": "ac6b2072-9766-4dd6-af2c-2c58d1e0e2b9",
   "metadata": {},
   "outputs": [
    {
     "data": {
      "text/plain": [
       "<Axes: xlabel='number', ylabel='dlog_base_fee_gwei'>"
      ]
     },
     "execution_count": 32,
     "metadata": {},
     "output_type": "execute_result"
    },
    {
     "data": {
      "image/png": "[encoded data removed]",
      "text/plain": [
       "<Figure size 640x480 with 1 Axes>"
      ]
     },
     "metadata": {},
     "output_type": "display_data"
    }
   ],
   "source": [
    "df.plot(x='number', y='dlog_base_fee_gwei', kind='scatter', s=0.2, label='log change in base fee', color='C2')"
   ]
  },
  {
   "cell_type": "code",
   "execution_count": 41,
   "id": "b9a2dd7b-4db2-40f5-898d-8d3f231bca55",
   "metadata": {},
   "outputs": [
    {
     "data": {
      "text/plain": [
       "<Axes: ylabel='Frequency'>"
      ]
     },
     "execution_count": 41,
     "metadata": {},
     "output_type": "execute_result"
    },
    {
     "data": {
      "image/png": "[encoded data removed]",
      "text/plain": [
       "<Figure size 640x480 with 1 Axes>"
      ]
     },
     "metadata": {},
     "output_type": "display_data"
    }
   ],
   "source": [
    "# looks pretty bell curve: i.e. ~ GBM for base fee\n",
    "df.plot(y='dlog_base_fee_gwei', kind='hist', bins=200, density=True, label='log change in base fee', color='C2', edgecolor='k')"
   ]
  },
  {
   "cell_type": "code",
   "execution_count": 40,
   "id": "79c0ecb4-9367-445c-be15-342b6c678b6b",
   "metadata": {},
   "outputs": [
    {
     "data": {
      "text/plain": [
       "<Axes: ylabel='Frequency'>"
      ]
     },
     "execution_count": 40,
     "metadata": {},
     "output_type": "execute_result"
    },
    {
     "data": {
      "image/png": "[encoded data removed]",
      "text/plain": [
       "<Figure size 640x480 with 1 Axes>"
      ]
     },
     "metadata": {},
     "output_type": "display_data"
    }
   ],
   "source": [
    "# ignoring extreme outliers beyond +/- 1 even more so ...\n",
    "df[np.abs(df['dlog_base_fee_gwei']) < 1.0].plot(y='dlog_base_fee_gwei', kind='hist', bins=200, density=True, label='log change in base fee', color='C2', edgecolor='k', )"
   ]
  },
  {
   "cell_type": "code",
   "execution_count": 59,
   "id": "2f94da2e-5194-4b6e-8064-99ac421c413d",
   "metadata": {},
   "outputs": [],
   "source": [
    "# function to fit log price diffs to a few distributions\n",
    "# SEE: https://stackoverflow.com/questions/6620471/fitting-empirical-distribution-to-theoretical-ones-with-scipy-python\n",
    "def plot_fit_hist(df_data: pd.DataFrame, col: str, dists: list) -> dict:\n",
    "    \"\"\"\n",
    "    Plots fits on top of histogram data. Returns fits for all dist names\n",
    "    \"\"\"\n",
    "    params_data = {}\n",
    "\n",
    "    df_data_col_notnull = df_data[df_data[col].notnull()][col]\n",
    "    x = np.arange(-1.5, 1.5, 0.01)\n",
    "    x_lim_max = 1.5\n",
    "    ax = df_data.plot(y=col, kind='hist', bins=200, color='w', edgecolor='black', density=True, xlim=(-x_lim_max, x_lim_max))\n",
    "    for dist in dists:\n",
    "        params = getattr(stats, dist).fit(df_data_col_notnull)\n",
    "        arg = params[:-2]\n",
    "        pdf = getattr(stats, dist).pdf(x, *arg, loc=params[-2], scale=params[-1])\n",
    "        df_pdf = pd.DataFrame(data={dist: pdf}, index=x)\n",
    "        df_pdf.plot(ax=ax)\n",
    "    \n",
    "        # store param fits for later use in cell below\n",
    "        params_data[dist] = [*params] + [None for _ in range(4 - len(params))]\n",
    "    \n",
    "    return params_data"
   ]
  },
  {
   "cell_type": "code",
   "execution_count": 60,
   "id": "0996581c-7256-455d-9dbb-0e916cf16964",
   "metadata": {},
   "outputs": [
    {
     "data": {
      "image/png": "[encoded data removed]",
      "text/plain": [
       "<Figure size 640x480 with 1 Axes>"
      ]
     },
     "metadata": {},
     "output_type": "display_data"
    }
   ],
   "source": [
    "%%capture --no-display\n",
    "\n",
    "# how good of a fit do we have to log normal for 50 block \"candles\"?\n",
    "params_data = plot_fit_hist(df, 'dlog_base_fee_gwei', ['norm', 'cauchy', 'levy_stable'])"
   ]
  },
  {
   "cell_type": "code",
   "execution_count": 67,
   "id": "60660c03-64f7-4502-95f0-2cb557861cb1",
   "metadata": {},
   "outputs": [
    {
     "data": {
      "text/html": [
       "<div>\n",
       "<style scoped>\n",
       "    .dataframe tbody tr th:only-of-type {\n",
       "        vertical-align: middle;\n",
       "    }\n",
       "\n",
       "    .dataframe tbody tr th {\n",
       "        vertical-align: top;\n",
       "    }\n",
       "\n",
       "    .dataframe thead th {\n",
       "        text-align: right;\n",
       "    }\n",
       "</style>\n",
       "<table border=\"1\" class=\"dataframe\">\n",
       "  <thead>\n",
       "    <tr style=\"text-align: right;\">\n",
       "      <th></th>\n",
       "      <th>0</th>\n",
       "      <th>1</th>\n",
       "      <th>2</th>\n",
       "      <th>3</th>\n",
       "    </tr>\n",
       "  </thead>\n",
       "  <tbody>\n",
       "    <tr>\n",
       "      <th>norm</th>\n",
       "      <td>0.000208</td>\n",
       "      <td>0.162236</td>\n",
       "      <td>NaN</td>\n",
       "      <td>NaN</td>\n",
       "    </tr>\n",
       "    <tr>\n",
       "      <th>cauchy</th>\n",
       "      <td>-0.007547</td>\n",
       "      <td>0.075118</td>\n",
       "      <td>NaN</td>\n",
       "      <td>NaN</td>\n",
       "    </tr>\n",
       "    <tr>\n",
       "      <th>levy_stable</th>\n",
       "      <td>1.712342</td>\n",
       "      <td>0.267022</td>\n",
       "      <td>0.001523</td>\n",
       "      <td>0.088217</td>\n",
       "    </tr>\n",
       "  </tbody>\n",
       "</table>\n",
       "</div>"
      ],
      "text/plain": [
       "                    0         1         2         3\n",
       "norm         0.000208  0.162236       NaN       NaN\n",
       "cauchy      -0.007547  0.075118       NaN       NaN\n",
       "levy_stable  1.712342  0.267022  0.001523  0.088217"
      ]
     },
     "execution_count": 67,
     "metadata": {},
     "output_type": "execute_result"
    }
   ],
   "source": [
    "# 50 block \"candle\" distr fits ...\n",
    "df_params = pd.DataFrame(data=params_data).T\n",
    "df_params"
   ]
  },
  {
   "cell_type": "code",
   "execution_count": 64,
   "id": "0b11bcb1-2611-40a4-aee7-cc111fa5a840",
   "metadata": {},
   "outputs": [],
   "source": [
    "# function to calculate z_alpha quantile at time t assuming GBM\n",
    "#  ... i.e. P[base_fee_t/base_fee_0 <= z_alpha] = 1-alpha\n",
    "def q_base_fee_gbm(t: float, alpha: float, mu: float, sigma: float) -> float:\n",
    "    # t is in number of candles mu, sigma normalized to\n",
    "    return np.exp(mu * t + sigma * np.sqrt(t) * stats.norm.ppf(1-alpha))"
   ]
  },
  {
   "cell_type": "code",
   "execution_count": 93,
   "id": "cca0f0a4-ed2b-4a22-a25d-b52ff50aac68",
   "metadata": {},
   "outputs": [
    {
     "data": {
      "text/plain": [
       "4.8504288190875915"
      ]
     },
     "execution_count": 93,
     "metadata": {},
     "output_type": "execute_result"
    }
   ],
   "source": [
    "# 1085 \"candles\" later (~ 1 week later), 1-alpha = 60% quantile is about 5x current base fee ...\n",
    "mu = df_params.iloc[0][0]\n",
    "sigma = df_params.iloc[0][1]\n",
    "q_base_fee_gbm(1085, 0.4, mu, sigma)"
   ]
  },
  {
   "cell_type": "code",
   "execution_count": 111,
   "id": "2c5ca0e5-cbea-4df1-ae21-2f5df5cdfc70",
   "metadata": {},
   "outputs": [],
   "source": [
    "# ... likely not exactly GBM since tend to return to a \"normal\" base fee"
   ]
  },
  {
   "cell_type": "code",
   "execution_count": null,
   "id": "25367846-3046-40a4-9d96-db5d539b69f0",
   "metadata": {},
   "outputs": [],
   "source": []
  }
 ],
 "metadata": {
  "kernelspec": {
   "display_name": "Python 3 (ipykernel)",
   "language": "python",
   "name": "python3"
  },
  "language_info": {
   "codemirror_mode": {
    "name": "ipython",
    "version": 3
   },
   "file_extension": ".py",
   "mimetype": "text/x-python",
   "name": "python",
   "nbconvert_exporter": "python",
   "pygments_lexer": "ipython3",
   "version": "3.9.6"
  }
 },
 "nbformat": 4,
 "nbformat_minor": 5
}

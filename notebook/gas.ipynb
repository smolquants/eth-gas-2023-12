{
 "cells": [
  {
   "cell_type": "code",
   "execution_count": 2,
   "id": "0dd003f8-73b3-461d-90ec-67a7596c6372",
   "metadata": {},
   "outputs": [],
   "source": [
    "import numpy as np\n",
    "import pandas as pd\n",
    "import matplotlib.pyplot as plt\n",
    "\n",
    "from scipy import stats\n",
    "from ape import chain, networks"
   ]
  },
  {
   "cell_type": "code",
   "execution_count": 3,
   "id": "b7eedd67-ddd8-4fbd-a4af-39ed19b440a0",
   "metadata": {},
   "outputs": [
    {
     "data": {
      "text/plain": [
       "<alchemy chain_id=1>"
      ]
     },
     "execution_count": 3,
     "metadata": {},
     "output_type": "execute_result"
    }
   ],
   "source": [
    "# SEE: https://gist.github.com/banteg/dcf6082ff7fc6ad51ce220146f29d9ff\n",
    "networks.parse_network_choice('ethereum:mainnet:alchemy').__enter__()"
   ]
  },
  {
   "cell_type": "code",
   "execution_count": 4,
   "id": "b51d5d43-8133-49c6-8c44-00abe71598c8",
   "metadata": {},
   "outputs": [],
   "source": [
    "merge_block_number = 15537394"
   ]
  },
  {
   "cell_type": "code",
   "execution_count": 5,
   "id": "2d0eb302-b50e-4664-b70a-6ce7c8073998",
   "metadata": {},
   "outputs": [
    {
     "data": {
      "text/plain": [
       "18824518"
      ]
     },
     "execution_count": 5,
     "metadata": {},
     "output_type": "execute_result"
    }
   ],
   "source": [
    "# last block number\n",
    "last_block_number = chain.blocks[-1].number\n",
    "last_block_number"
   ]
  },
  {
   "cell_type": "code",
   "execution_count": 6,
   "id": "1cefd4ed-d726-4b9b-9b55-b456f46e6ca4",
   "metadata": {},
   "outputs": [],
   "source": [
    "# start block number for analysis\n",
    "start_block_number = last_block_number - 10  # testing for now; TODO: change"
   ]
  },
  {
   "cell_type": "code",
   "execution_count": 7,
   "id": "86ebc0d3-d853-4472-829a-0997b29b96f0",
   "metadata": {},
   "outputs": [
    {
     "name": "stdout",
     "output_type": "stream",
     "text": [
      "INFO: `ape-cache` database has not been initialized\n"
     ]
    }
   ],
   "source": [
    "# block query since start block\n",
    "qb = chain.blocks.query('*', start_block=start_block_number)"
   ]
  },
  {
   "cell_type": "code",
   "execution_count": 8,
   "id": "a9913c57-2a59-4944-8e2c-134f9c77988d",
   "metadata": {},
   "outputs": [
    {
     "data": {
      "text/html": [
       "<div>\n",
       "<style scoped>\n",
       "    .dataframe tbody tr th:only-of-type {\n",
       "        vertical-align: middle;\n",
       "    }\n",
       "\n",
       "    .dataframe tbody tr th {\n",
       "        vertical-align: top;\n",
       "    }\n",
       "\n",
       "    .dataframe thead th {\n",
       "        text-align: right;\n",
       "    }\n",
       "</style>\n",
       "<table border=\"1\" class=\"dataframe\">\n",
       "  <thead>\n",
       "    <tr style=\"text-align: right;\">\n",
       "      <th></th>\n",
       "      <th>base_fee</th>\n",
       "      <th>difficulty</th>\n",
       "      <th>gas_limit</th>\n",
       "      <th>gas_used</th>\n",
       "      <th>hash</th>\n",
       "      <th>num_transactions</th>\n",
       "      <th>number</th>\n",
       "      <th>parent_hash</th>\n",
       "      <th>size</th>\n",
       "      <th>timestamp</th>\n",
       "      <th>total_difficulty</th>\n",
       "    </tr>\n",
       "  </thead>\n",
       "  <tbody>\n",
       "    <tr>\n",
       "      <th>0</th>\n",
       "      <td>35846217606</td>\n",
       "      <td>0</td>\n",
       "      <td>30000000</td>\n",
       "      <td>15959266</td>\n",
       "      <td>b'#\\x14t\\x9b!\\x05\\x0b\\x987C\\xc2\\xdc\\x14\\xca\\xd...</td>\n",
       "      <td>264</td>\n",
       "      <td>18824508</td>\n",
       "      <td>b'C\\xea\\x8d\\xb4\\x10\\x94\\xb2\\x97\\x9cN\\x98\\xa2o\\...</td>\n",
       "      <td>150170</td>\n",
       "      <td>1703043659</td>\n",
       "      <td>58750003716598352816469</td>\n",
       "    </tr>\n",
       "    <tr>\n",
       "      <th>1</th>\n",
       "      <td>36132768087</td>\n",
       "      <td>0</td>\n",
       "      <td>30000000</td>\n",
       "      <td>14355241</td>\n",
       "      <td>b'S*\\xe2\\x08\\xee}X\\xa6s\\x17\\x14$\\t\\xf3\\x8e\\x12...</td>\n",
       "      <td>245</td>\n",
       "      <td>18824509</td>\n",
       "      <td>b'#\\x14t\\x9b!\\x05\\x0b\\x987C\\xc2\\xdc\\x14\\xca\\xd...</td>\n",
       "      <td>65520</td>\n",
       "      <td>1703043671</td>\n",
       "      <td>58750003716598352816469</td>\n",
       "    </tr>\n",
       "    <tr>\n",
       "      <th>2</th>\n",
       "      <td>35938627026</td>\n",
       "      <td>0</td>\n",
       "      <td>30000000</td>\n",
       "      <td>15200391</td>\n",
       "      <td>b'\\xe6\\xa8\\xf4\\xaaa\\xee\\x89\\xbf\\x0c,Y\\xf1j\\xb1...</td>\n",
       "      <td>224</td>\n",
       "      <td>18824510</td>\n",
       "      <td>b'S*\\xe2\\x08\\xee}X\\xa6s\\x17\\x14$\\t\\xf3\\x8e\\x12...</td>\n",
       "      <td>173078</td>\n",
       "      <td>1703043683</td>\n",
       "      <td>58750003716598352816469</td>\n",
       "    </tr>\n",
       "    <tr>\n",
       "      <th>3</th>\n",
       "      <td>35998641837</td>\n",
       "      <td>0</td>\n",
       "      <td>30000000</td>\n",
       "      <td>10583630</td>\n",
       "      <td>b'T\\xfc\\xd02\\xe4\\t&lt;\\xe6V/vJ\\xe2\\xe7\\xa0c\\x1c\\x...</td>\n",
       "      <td>140</td>\n",
       "      <td>18824511</td>\n",
       "      <td>b'\\xe6\\xa8\\xf4\\xaaa\\xee\\x89\\xbf\\x0c,Y\\xf1j\\xb1...</td>\n",
       "      <td>31994</td>\n",
       "      <td>1703043695</td>\n",
       "      <td>58750003716598352816469</td>\n",
       "    </tr>\n",
       "    <tr>\n",
       "      <th>4</th>\n",
       "      <td>34673780822</td>\n",
       "      <td>0</td>\n",
       "      <td>30000000</td>\n",
       "      <td>21002655</td>\n",
       "      <td>b'2v\\xab\\x1d\\x16\\xc8&gt;j\\xb0K\\xe1\\x15\\x8b\\x1c\\x1...</td>\n",
       "      <td>287</td>\n",
       "      <td>18824512</td>\n",
       "      <td>b'T\\xfc\\xd02\\xe4\\t&lt;\\xe6V/vJ\\xe2\\xe7\\xa0c\\x1c\\x...</td>\n",
       "      <td>162414</td>\n",
       "      <td>1703043707</td>\n",
       "      <td>58750003716598352816469</td>\n",
       "    </tr>\n",
       "    <tr>\n",
       "      <th>5</th>\n",
       "      <td>36408237020</td>\n",
       "      <td>0</td>\n",
       "      <td>30000000</td>\n",
       "      <td>17688148</td>\n",
       "      <td>b'^\\x88\\xb01\\xcb\\x9dS\\x91b\\x01\\xa7\\x01\\xd1\\x93...</td>\n",
       "      <td>237</td>\n",
       "      <td>18824513</td>\n",
       "      <td>b'2v\\xab\\x1d\\x16\\xc8&gt;j\\xb0K\\xe1\\x15\\x8b\\x1c\\x1...</td>\n",
       "      <td>186386</td>\n",
       "      <td>1703043719</td>\n",
       "      <td>58750003716598352816469</td>\n",
       "    </tr>\n",
       "    <tr>\n",
       "      <th>6</th>\n",
       "      <td>37223826432</td>\n",
       "      <td>0</td>\n",
       "      <td>30000000</td>\n",
       "      <td>21952177</td>\n",
       "      <td>b'\\xb2/\\x16\\xdf\\xe3\\x11\\xd6\\x95\\x014\\x05\\x98\\x...</td>\n",
       "      <td>198</td>\n",
       "      <td>18824514</td>\n",
       "      <td>b'^\\x88\\xb01\\xcb\\x9dS\\x91b\\x01\\xa7\\x01\\xd1\\x93...</td>\n",
       "      <td>58765</td>\n",
       "      <td>1703043731</td>\n",
       "      <td>58750003716598352816469</td>\n",
       "    </tr>\n",
       "    <tr>\n",
       "      <th>7</th>\n",
       "      <td>39380381681</td>\n",
       "      <td>0</td>\n",
       "      <td>30000000</td>\n",
       "      <td>13328079</td>\n",
       "      <td>b'r\\x11T\\xfa\\x93\\x98i\\x9c\\xfb\\xff\\xd8t\\xa7}\\xe...</td>\n",
       "      <td>150</td>\n",
       "      <td>18824515</td>\n",
       "      <td>b'\\xb2/\\x16\\xdf\\xe3\\x11\\xd6\\x95\\x014\\x05\\x98\\x...</td>\n",
       "      <td>173077</td>\n",
       "      <td>1703043743</td>\n",
       "      <td>58750003716598352816469</td>\n",
       "    </tr>\n",
       "    <tr>\n",
       "      <th>8</th>\n",
       "      <td>38831707622</td>\n",
       "      <td>0</td>\n",
       "      <td>30000000</td>\n",
       "      <td>11900157</td>\n",
       "      <td>b'8~\\xdf_\\x1e\\x8a?K\\xf9\\x8f\\xf2\\xb1v=mj\\xf5\\x1...</td>\n",
       "      <td>131</td>\n",
       "      <td>18824516</td>\n",
       "      <td>b'r\\x11T\\xfa\\x93\\x98i\\x9c\\xfb\\xff\\xd8t\\xa7}\\xe...</td>\n",
       "      <td>259531</td>\n",
       "      <td>1703043755</td>\n",
       "      <td>58750003716598352816469</td>\n",
       "    </tr>\n",
       "    <tr>\n",
       "      <th>9</th>\n",
       "      <td>37828605980</td>\n",
       "      <td>0</td>\n",
       "      <td>30000000</td>\n",
       "      <td>11704662</td>\n",
       "      <td>b'8^\\x12\\xb9\\x96\\xcaW\\x7f}\\xefcyX\\x93\\x88\\xb7\\...</td>\n",
       "      <td>148</td>\n",
       "      <td>18824517</td>\n",
       "      <td>b'8~\\xdf_\\x1e\\x8a?K\\xf9\\x8f\\xf2\\xb1v=mj\\xf5\\x1...</td>\n",
       "      <td>137691</td>\n",
       "      <td>1703043767</td>\n",
       "      <td>58750003716598352816469</td>\n",
       "    </tr>\n",
       "    <tr>\n",
       "      <th>10</th>\n",
       "      <td>36789788957</td>\n",
       "      <td>0</td>\n",
       "      <td>30000000</td>\n",
       "      <td>17896057</td>\n",
       "      <td>b'\\x16\\x9d\\xadZ\\x97\\x80\\x00$d\\xa9\\x9d1XA3k\\xf1...</td>\n",
       "      <td>271</td>\n",
       "      <td>18824518</td>\n",
       "      <td>b'8^\\x12\\xb9\\x96\\xcaW\\x7f}\\xefcyX\\x93\\x88\\xb7\\...</td>\n",
       "      <td>166273</td>\n",
       "      <td>1703043779</td>\n",
       "      <td>58750003716598352816469</td>\n",
       "    </tr>\n",
       "  </tbody>\n",
       "</table>\n",
       "</div>"
      ],
      "text/plain": [
       "       base_fee  difficulty  gas_limit  gas_used  \\\n",
       "0   35846217606           0   30000000  15959266   \n",
       "1   36132768087           0   30000000  14355241   \n",
       "2   35938627026           0   30000000  15200391   \n",
       "3   35998641837           0   30000000  10583630   \n",
       "4   34673780822           0   30000000  21002655   \n",
       "5   36408237020           0   30000000  17688148   \n",
       "6   37223826432           0   30000000  21952177   \n",
       "7   39380381681           0   30000000  13328079   \n",
       "8   38831707622           0   30000000  11900157   \n",
       "9   37828605980           0   30000000  11704662   \n",
       "10  36789788957           0   30000000  17896057   \n",
       "\n",
       "                                                 hash  num_transactions  \\\n",
       "0   b'#\\x14t\\x9b!\\x05\\x0b\\x987C\\xc2\\xdc\\x14\\xca\\xd...               264   \n",
       "1   b'S*\\xe2\\x08\\xee}X\\xa6s\\x17\\x14$\\t\\xf3\\x8e\\x12...               245   \n",
       "2   b'\\xe6\\xa8\\xf4\\xaaa\\xee\\x89\\xbf\\x0c,Y\\xf1j\\xb1...               224   \n",
       "3   b'T\\xfc\\xd02\\xe4\\t<\\xe6V/vJ\\xe2\\xe7\\xa0c\\x1c\\x...               140   \n",
       "4   b'2v\\xab\\x1d\\x16\\xc8>j\\xb0K\\xe1\\x15\\x8b\\x1c\\x1...               287   \n",
       "5   b'^\\x88\\xb01\\xcb\\x9dS\\x91b\\x01\\xa7\\x01\\xd1\\x93...               237   \n",
       "6   b'\\xb2/\\x16\\xdf\\xe3\\x11\\xd6\\x95\\x014\\x05\\x98\\x...               198   \n",
       "7   b'r\\x11T\\xfa\\x93\\x98i\\x9c\\xfb\\xff\\xd8t\\xa7}\\xe...               150   \n",
       "8   b'8~\\xdf_\\x1e\\x8a?K\\xf9\\x8f\\xf2\\xb1v=mj\\xf5\\x1...               131   \n",
       "9   b'8^\\x12\\xb9\\x96\\xcaW\\x7f}\\xefcyX\\x93\\x88\\xb7\\...               148   \n",
       "10  b'\\x16\\x9d\\xadZ\\x97\\x80\\x00$d\\xa9\\x9d1XA3k\\xf1...               271   \n",
       "\n",
       "      number                                        parent_hash    size  \\\n",
       "0   18824508  b'C\\xea\\x8d\\xb4\\x10\\x94\\xb2\\x97\\x9cN\\x98\\xa2o\\...  150170   \n",
       "1   18824509  b'#\\x14t\\x9b!\\x05\\x0b\\x987C\\xc2\\xdc\\x14\\xca\\xd...   65520   \n",
       "2   18824510  b'S*\\xe2\\x08\\xee}X\\xa6s\\x17\\x14$\\t\\xf3\\x8e\\x12...  173078   \n",
       "3   18824511  b'\\xe6\\xa8\\xf4\\xaaa\\xee\\x89\\xbf\\x0c,Y\\xf1j\\xb1...   31994   \n",
       "4   18824512  b'T\\xfc\\xd02\\xe4\\t<\\xe6V/vJ\\xe2\\xe7\\xa0c\\x1c\\x...  162414   \n",
       "5   18824513  b'2v\\xab\\x1d\\x16\\xc8>j\\xb0K\\xe1\\x15\\x8b\\x1c\\x1...  186386   \n",
       "6   18824514  b'^\\x88\\xb01\\xcb\\x9dS\\x91b\\x01\\xa7\\x01\\xd1\\x93...   58765   \n",
       "7   18824515  b'\\xb2/\\x16\\xdf\\xe3\\x11\\xd6\\x95\\x014\\x05\\x98\\x...  173077   \n",
       "8   18824516  b'r\\x11T\\xfa\\x93\\x98i\\x9c\\xfb\\xff\\xd8t\\xa7}\\xe...  259531   \n",
       "9   18824517  b'8~\\xdf_\\x1e\\x8a?K\\xf9\\x8f\\xf2\\xb1v=mj\\xf5\\x1...  137691   \n",
       "10  18824518  b'8^\\x12\\xb9\\x96\\xcaW\\x7f}\\xefcyX\\x93\\x88\\xb7\\...  166273   \n",
       "\n",
       "     timestamp         total_difficulty  \n",
       "0   1703043659  58750003716598352816469  \n",
       "1   1703043671  58750003716598352816469  \n",
       "2   1703043683  58750003716598352816469  \n",
       "3   1703043695  58750003716598352816469  \n",
       "4   1703043707  58750003716598352816469  \n",
       "5   1703043719  58750003716598352816469  \n",
       "6   1703043731  58750003716598352816469  \n",
       "7   1703043743  58750003716598352816469  \n",
       "8   1703043755  58750003716598352816469  \n",
       "9   1703043767  58750003716598352816469  \n",
       "10  1703043779  58750003716598352816469  "
      ]
     },
     "execution_count": 8,
     "metadata": {},
     "output_type": "execute_result"
    }
   ],
   "source": [
    "qb"
   ]
  },
  {
   "cell_type": "code",
   "execution_count": 9,
   "id": "cdbc86ce-b2bc-4ca1-a923-4e4ce552a75f",
   "metadata": {},
   "outputs": [
    {
     "data": {
      "text/plain": [
       "0     35.846218\n",
       "1     36.132768\n",
       "2     35.938627\n",
       "3     35.998642\n",
       "4     34.673781\n",
       "5     36.408237\n",
       "6     37.223826\n",
       "7     39.380382\n",
       "8     38.831708\n",
       "9     37.828606\n",
       "10    36.789789\n",
       "Name: base_fee, dtype: float64"
      ]
     },
     "execution_count": 9,
     "metadata": {},
     "output_type": "execute_result"
    }
   ],
   "source": [
    "# base fee in gwei\n",
    "qb['base_fee'] / 1e9"
   ]
  },
  {
   "cell_type": "code",
   "execution_count": null,
   "id": "d0daa982-3041-47fe-8fcd-1402fe1be88a",
   "metadata": {},
   "outputs": [],
   "source": []
  }
 ],
 "metadata": {
  "kernelspec": {
   "display_name": "Python 3 (ipykernel)",
   "language": "python",
   "name": "python3"
  },
  "language_info": {
   "codemirror_mode": {
    "name": "ipython",
    "version": 3
   },
   "file_extension": ".py",
   "mimetype": "text/x-python",
   "name": "python",
   "nbconvert_exporter": "python",
   "pygments_lexer": "ipython3",
   "version": "3.9.6"
  }
 },
 "nbformat": 4,
 "nbformat_minor": 5
}

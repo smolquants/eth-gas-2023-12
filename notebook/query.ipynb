{
 "cells": [
  {
   "cell_type": "code",
   "execution_count": 2,
   "id": "d9e7f1d8-d68c-4042-b004-f5e5611fb121",
   "metadata": {},
   "outputs": [],
   "source": [
    "import pandas as pd\n",
    "from ape import chain, networks"
   ]
  },
  {
   "cell_type": "code",
   "execution_count": 3,
   "id": "9a8413d9-eefb-4a99-9a0c-99e57b49bd2a",
   "metadata": {},
   "outputs": [
    {
     "data": {
      "text/plain": [
       "<alchemy chain_id=1>"
      ]
     },
     "execution_count": 3,
     "metadata": {},
     "output_type": "execute_result"
    }
   ],
   "source": [
    "# SEE: https://gist.github.com/banteg/dcf6082ff7fc6ad51ce220146f29d9ff\n",
    "networks.parse_network_choice('ethereum:mainnet:alchemy').__enter__()"
   ]
  },
  {
   "cell_type": "code",
   "execution_count": 4,
   "id": "6c977e88-827a-469f-9d43-57ba986c8a8d",
   "metadata": {},
   "outputs": [],
   "source": [
    "merge_block = 15537394"
   ]
  },
  {
   "cell_type": "code",
   "execution_count": 5,
   "id": "c59f73b9-8e7f-4232-a542-2bd6772aac8e",
   "metadata": {},
   "outputs": [
    {
     "data": {
      "text/plain": [
       "18829329"
      ]
     },
     "execution_count": 5,
     "metadata": {},
     "output_type": "execute_result"
    }
   ],
   "source": [
    "# last block number\n",
    "last_block = chain.blocks[-1].number\n",
    "last_block"
   ]
  },
  {
   "cell_type": "code",
   "execution_count": 6,
   "id": "ed15fc1f-d236-4da3-8563-e66e780f2ecb",
   "metadata": {},
   "outputs": [],
   "source": [
    "# start block number for query to csv\n",
    "start_block = last_block - 7200 * 30  # over last 30 days\n",
    "step = 50  # query every 10 minutes"
   ]
  },
  {
   "cell_type": "code",
   "execution_count": 7,
   "id": "e683629c-29ae-408d-90cb-7972b7082c5c",
   "metadata": {},
   "outputs": [
    {
     "data": {
      "text/plain": [
       "range(18613329, 18829329, 50)"
      ]
     },
     "execution_count": 7,
     "metadata": {},
     "output_type": "execute_result"
    }
   ],
   "source": [
    "# relevant block numbers to query for\n",
    "blocks = range(start_block, last_block, step)\n",
    "blocks"
   ]
  },
  {
   "cell_type": "code",
   "execution_count": 8,
   "id": "c4295e35-ff46-423e-a3d9-f9d911e116b2",
   "metadata": {},
   "outputs": [],
   "source": [
    "FILENAME = f\"./data/blocks_{start_block}_{last_block}_{step}.csv\"\n",
    "is_head = True"
   ]
  },
  {
   "cell_type": "code",
   "execution_count": 9,
   "id": "dda9559e-5813-4606-af15-ba29915a6142",
   "metadata": {},
   "outputs": [
    {
     "name": "stdout",
     "output_type": "stream",
     "text": [
      "CPU times: user 3 µs, sys: 1 µs, total: 4 µs\n",
      "Wall time: 5.25 µs\n",
      "INFO: `ape-cache` database has not been initialized\n",
      "Processing block 18829279 ...\r"
     ]
    }
   ],
   "source": [
    "%time\n",
    "\n",
    "# iterate and write to csv each block since querying over significant number of blocks ...\n",
    "# already ranging over blocks 1 at a time in ape default query manager, so chunking shouldn't help really\n",
    "# SEE: https://github.com/ApeWorX/ape/blob/v0.7.0/src/ape/managers/query.py#L64\n",
    "for block in blocks:\n",
    "    print(f\"Processing block {block} ...\", end='\\r')\n",
    "    df = chain.blocks.query('*', start_block=block, stop_block=block)\n",
    "\n",
    "    # append query to existing file\n",
    "    df.to_csv(FILENAME, mode='a', index=False, header=is_head)\n",
    "\n",
    "    # mark as not head for rest of iteration\n",
    "    if is_head:\n",
    "        is_head = False"
   ]
  },
  {
   "cell_type": "code",
   "execution_count": null,
   "id": "b168de52-994e-4208-8c02-6ecffb30ac53",
   "metadata": {},
   "outputs": [],
   "source": []
  }
 ],
 "metadata": {
  "kernelspec": {
   "display_name": "Python 3 (ipykernel)",
   "language": "python",
   "name": "python3"
  },
  "language_info": {
   "codemirror_mode": {
    "name": "ipython",
    "version": 3
   },
   "file_extension": ".py",
   "mimetype": "text/x-python",
   "name": "python",
   "nbconvert_exporter": "python",
   "pygments_lexer": "ipython3",
   "version": "3.9.6"
  }
 },
 "nbformat": 4,
 "nbformat_minor": 5
}
